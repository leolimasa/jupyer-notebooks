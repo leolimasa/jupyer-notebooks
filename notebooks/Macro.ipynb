{
 "cells": [
  {
   "cell_type": "markdown",
   "metadata": {},
   "source": [
    "# Macroeconomics Analysis"
   ]
  },
  {
   "cell_type": "code",
   "execution_count": 1,
   "metadata": {
    "collapsed": true,
    "jupyter": {
     "outputs_hidden": true,
     "source_hidden": true
    }
   },
   "outputs": [
    {
     "name": "stderr",
     "output_type": "stream",
     "text": [
      "/Users/leo/opt/anaconda3/envs/jupyter-notebooks/lib/python3.8/site-packages/pandas_datareader/compat/__init__.py:7: FutureWarning: pandas.util.testing is deprecated. Use the functions in the public API at pandas.testing instead.\n",
      "  from pandas.util.testing import assert_frame_equal\n"
     ]
    }
   ],
   "source": [
    "# System init\n",
    "\n",
    "import pandas as pd\n",
    "import pandas_datareader.data as pdr\n",
    "import datetime\n",
    "import plotly.graph_objects as go\n",
    "import plotly.io as pio\n",
    "import plotly.express as px\n",
    "import os\n",
    "from functools import reduce\n",
    "from dataclasses import dataclass\n",
    "\n",
    "pio.templates.default = 'plotly_dark'"
   ]
  },
  {
   "cell_type": "markdown",
   "metadata": {},
   "source": [
    "## Sector Performance\n",
    "\n"
   ]
  },
  {
   "cell_type": "code",
   "execution_count": 5,
   "metadata": {},
   "outputs": [
    {
     "data": {
      "text/html": [
       "<div>\n",
       "<style scoped>\n",
       "    .dataframe tbody tr th:only-of-type {\n",
       "        vertical-align: middle;\n",
       "    }\n",
       "\n",
       "    .dataframe tbody tr th {\n",
       "        vertical-align: top;\n",
       "    }\n",
       "\n",
       "    .dataframe thead th {\n",
       "        text-align: right;\n",
       "    }\n",
       "</style>\n",
       "<table border=\"1\" class=\"dataframe\">\n",
       "  <thead>\n",
       "    <tr style=\"text-align: right;\">\n",
       "      <th></th>\n",
       "      <th>RT</th>\n",
       "      <th>1D</th>\n",
       "      <th>5D</th>\n",
       "      <th>1M</th>\n",
       "      <th>3M</th>\n",
       "      <th>YTD</th>\n",
       "      <th>1Y</th>\n",
       "      <th>3Y</th>\n",
       "      <th>5Y</th>\n",
       "      <th>10Y</th>\n",
       "    </tr>\n",
       "  </thead>\n",
       "  <tbody>\n",
       "    <tr>\n",
       "      <th>Energy</th>\n",
       "      <td>0.96%</td>\n",
       "      <td>0.96%</td>\n",
       "      <td>-19.63%</td>\n",
       "      <td>-52.91%</td>\n",
       "      <td>-56.77%</td>\n",
       "      <td>-57.51%</td>\n",
       "      <td>-60.43%</td>\n",
       "      <td>-62.11%</td>\n",
       "      <td>-65.10%</td>\n",
       "      <td>-54.85%</td>\n",
       "    </tr>\n",
       "    <tr>\n",
       "      <th>Consumer Discretionary</th>\n",
       "      <td>-2.71%</td>\n",
       "      <td>-2.71%</td>\n",
       "      <td>-12.53%</td>\n",
       "      <td>-32.14%</td>\n",
       "      <td>-27.14%</td>\n",
       "      <td>-27.88%</td>\n",
       "      <td>-19.92%</td>\n",
       "      <td>2.23%</td>\n",
       "      <td>18.06%</td>\n",
       "      <td>179.31%</td>\n",
       "    </tr>\n",
       "    <tr>\n",
       "      <th>Financials</th>\n",
       "      <td>-3.27%</td>\n",
       "      <td>-3.27%</td>\n",
       "      <td>-17.98%</td>\n",
       "      <td>-39.33%</td>\n",
       "      <td>-38.68%</td>\n",
       "      <td>-38.86%</td>\n",
       "      <td>-29.53%</td>\n",
       "      <td>-23.16%</td>\n",
       "      <td>-4.89%</td>\n",
       "      <td>48.04%</td>\n",
       "    </tr>\n",
       "    <tr>\n",
       "      <th>Materials</th>\n",
       "      <td>-3.53%</td>\n",
       "      <td>-3.53%</td>\n",
       "      <td>-12.59%</td>\n",
       "      <td>-33.10%</td>\n",
       "      <td>-33.18%</td>\n",
       "      <td>-34.13%</td>\n",
       "      <td>-26.84%</td>\n",
       "      <td>-22.84%</td>\n",
       "      <td>-17.34%</td>\n",
       "      <td>26.21%</td>\n",
       "    </tr>\n",
       "    <tr>\n",
       "      <th>Health Care</th>\n",
       "      <td>-4.08%</td>\n",
       "      <td>-4.08%</td>\n",
       "      <td>-13.03%</td>\n",
       "      <td>-24.28%</td>\n",
       "      <td>-22.41%</td>\n",
       "      <td>-22.86%</td>\n",
       "      <td>-14.51%</td>\n",
       "      <td>5.36%</td>\n",
       "      <td>6.61%</td>\n",
       "      <td>144.76%</td>\n",
       "    </tr>\n",
       "    <tr>\n",
       "      <th>Information Technology</th>\n",
       "      <td>-4.42%</td>\n",
       "      <td>-4.42%</td>\n",
       "      <td>-15.25%</td>\n",
       "      <td>-30.53%</td>\n",
       "      <td>-21.18%</td>\n",
       "      <td>-22.31%</td>\n",
       "      <td>-2.93%</td>\n",
       "      <td>38.40%</td>\n",
       "      <td>77.11%</td>\n",
       "      <td>236.05%</td>\n",
       "    </tr>\n",
       "    <tr>\n",
       "      <th>Communication Services</th>\n",
       "      <td>-4.63%</td>\n",
       "      <td>-4.63%</td>\n",
       "      <td>-12.25%</td>\n",
       "      <td>-28.33%</td>\n",
       "      <td>-24.05%</td>\n",
       "      <td>-23.86%</td>\n",
       "      <td>-12.05%</td>\n",
       "      <td>-19.73%</td>\n",
       "      <td>-10.99%</td>\n",
       "      <td>27.55%</td>\n",
       "    </tr>\n",
       "    <tr>\n",
       "      <th>Industrials</th>\n",
       "      <td>-5.04%</td>\n",
       "      <td>-5.04%</td>\n",
       "      <td>-18.38%</td>\n",
       "      <td>-39.10%</td>\n",
       "      <td>-36.93%</td>\n",
       "      <td>-37.25%</td>\n",
       "      <td>-31.21%</td>\n",
       "      <td>-23.59%</td>\n",
       "      <td>-11.66%</td>\n",
       "      <td>60.00%</td>\n",
       "    </tr>\n",
       "    <tr>\n",
       "      <th>Real Estate</th>\n",
       "      <td>-5.48%</td>\n",
       "      <td>-5.48%</td>\n",
       "      <td>-22.99%</td>\n",
       "      <td>-34.34%</td>\n",
       "      <td>-28.93%</td>\n",
       "      <td>-30.11%</td>\n",
       "      <td>-23.09%</td>\n",
       "      <td>-12.75%</td>\n",
       "      <td>NaN</td>\n",
       "      <td>NaN</td>\n",
       "    </tr>\n",
       "    <tr>\n",
       "      <th>Consumer Staples</th>\n",
       "      <td>-6.53%</td>\n",
       "      <td>-6.53%</td>\n",
       "      <td>-11.32%</td>\n",
       "      <td>-22.02%</td>\n",
       "      <td>-19.93%</td>\n",
       "      <td>-20.20%</td>\n",
       "      <td>-9.10%</td>\n",
       "      <td>-8.87%</td>\n",
       "      <td>3.83%</td>\n",
       "      <td>80.00%</td>\n",
       "    </tr>\n",
       "    <tr>\n",
       "      <th>Utilities</th>\n",
       "      <td>-8.18%</td>\n",
       "      <td>-8.18%</td>\n",
       "      <td>-17.18%</td>\n",
       "      <td>-32.27%</td>\n",
       "      <td>-26.14%</td>\n",
       "      <td>-26.74%</td>\n",
       "      <td>-17.25%</td>\n",
       "      <td>-7.56%</td>\n",
       "      <td>6.17%</td>\n",
       "      <td>58.00%</td>\n",
       "    </tr>\n",
       "  </tbody>\n",
       "</table>\n",
       "</div>"
      ],
      "text/plain": [
       "                            RT      1D       5D       1M       3M      YTD  \\\n",
       "Energy                   0.96%   0.96%  -19.63%  -52.91%  -56.77%  -57.51%   \n",
       "Consumer Discretionary  -2.71%  -2.71%  -12.53%  -32.14%  -27.14%  -27.88%   \n",
       "Financials              -3.27%  -3.27%  -17.98%  -39.33%  -38.68%  -38.86%   \n",
       "Materials               -3.53%  -3.53%  -12.59%  -33.10%  -33.18%  -34.13%   \n",
       "Health Care             -4.08%  -4.08%  -13.03%  -24.28%  -22.41%  -22.86%   \n",
       "Information Technology  -4.42%  -4.42%  -15.25%  -30.53%  -21.18%  -22.31%   \n",
       "Communication Services  -4.63%  -4.63%  -12.25%  -28.33%  -24.05%  -23.86%   \n",
       "Industrials             -5.04%  -5.04%  -18.38%  -39.10%  -36.93%  -37.25%   \n",
       "Real Estate             -5.48%  -5.48%  -22.99%  -34.34%  -28.93%  -30.11%   \n",
       "Consumer Staples        -6.53%  -6.53%  -11.32%  -22.02%  -19.93%  -20.20%   \n",
       "Utilities               -8.18%  -8.18%  -17.18%  -32.27%  -26.14%  -26.74%   \n",
       "\n",
       "                             1Y       3Y       5Y      10Y  \n",
       "Energy                  -60.43%  -62.11%  -65.10%  -54.85%  \n",
       "Consumer Discretionary  -19.92%    2.23%   18.06%  179.31%  \n",
       "Financials              -29.53%  -23.16%   -4.89%   48.04%  \n",
       "Materials               -26.84%  -22.84%  -17.34%   26.21%  \n",
       "Health Care             -14.51%    5.36%    6.61%  144.76%  \n",
       "Information Technology   -2.93%   38.40%   77.11%  236.05%  \n",
       "Communication Services  -12.05%  -19.73%  -10.99%   27.55%  \n",
       "Industrials             -31.21%  -23.59%  -11.66%   60.00%  \n",
       "Real Estate             -23.09%  -12.75%      NaN      NaN  \n",
       "Consumer Staples         -9.10%   -8.87%    3.83%   80.00%  \n",
       "Utilities               -17.25%   -7.56%    6.17%   58.00%  "
      ]
     },
     "execution_count": 5,
     "metadata": {},
     "output_type": "execute_result"
    }
   ],
   "source": [
    "sec_perf = pdr.get_sector_performance_av(api_key=os.getenv('API_KEY_AVANTAGE'))\n",
    "sec_perf"
   ]
  },
  {
   "cell_type": "markdown",
   "metadata": {},
   "source": [
    "## TODO Unemployment"
   ]
  },
  {
   "cell_type": "code",
   "execution_count": null,
   "metadata": {},
   "outputs": [],
   "source": []
  },
  {
   "cell_type": "markdown",
   "metadata": {},
   "source": [
    "## TODO GDP\n",
    "\n",
    "Can be done with:\n",
    "\n",
    "* https://www.econdb.com/main-indicators/\n",
    "* It has a pandas connector"
   ]
  },
  {
   "cell_type": "markdown",
   "metadata": {},
   "source": [
    "## TODO Yield Curve\n",
    "\n",
    "Can be done with FRED data, which also has a pandas connector"
   ]
  },
  {
   "cell_type": "markdown",
   "metadata": {},
   "source": [
    "## TODO Inflation and Oil Price"
   ]
  },
  {
   "cell_type": "markdown",
   "metadata": {},
   "source": [
    "## TODO demand for freight"
   ]
  }
 ],
 "metadata": {
  "kernelspec": {
   "display_name": "Python 3",
   "language": "python",
   "name": "python3"
  },
  "language_info": {
   "codemirror_mode": {
    "name": "ipython",
    "version": 3
   },
   "file_extension": ".py",
   "mimetype": "text/x-python",
   "name": "python",
   "nbconvert_exporter": "python",
   "pygments_lexer": "ipython3",
   "version": "3.8.1"
  }
 },
 "nbformat": 4,
 "nbformat_minor": 4
}
